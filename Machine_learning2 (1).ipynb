{
 "cells": [
  {
   "cell_type": "code",
   "execution_count": 14,
   "id": "0684b950",
   "metadata": {},
   "outputs": [
    {
     "name": "stdout",
     "output_type": "stream",
     "text": [
      "5\n",
      "* \n",
      "* * \n",
      "* * * \n",
      "* * * * \n",
      "* * * * * \n",
      "* * * * \n",
      "* * * \n",
      "* * \n",
      "* \n",
      "\n"
     ]
    }
   ],
   "source": [
    "n=int(input())\n",
    "#loop to indicate number of rows\n",
    "for i in range(0, n):\n",
    "#another loop to indicate number of columns\n",
    "    for j in range(0, i + 1):\n",
    "#printing *\n",
    "        print(\"*\", end=' ')\n",
    "#ending line \n",
    "    print(\"\\r\")\n",
    "for i in range(n, 0, -1):\n",
    "    for j in range(0, i - 1):\n",
    "        print(\"*\", end=' ')\n",
    "    print(\"\\r\")"
   ]
  },
  {
   "cell_type": "code",
   "execution_count": 1,
   "id": "0ac09e22",
   "metadata": {},
   "outputs": [
    {
     "name": "stdout",
     "output_type": "stream",
     "text": [
      "20 40 60 80 100 "
     ]
    }
   ],
   "source": [
    "my_list=[10,20,30,40,50,60,70,80,90,100]\n",
    "#using for loop to iterate over the list\n",
    "for i in range(0,len(my_list)):\n",
    "#condition for obtaining odd indexes\n",
    "    if(i%2!=0):\n",
    "        print(my_list[i],end=\" \")"
   ]
  },
  {
   "cell_type": "code",
   "execution_count": 15,
   "id": "b9203f6f",
   "metadata": {},
   "outputs": [
    {
     "name": "stdout",
     "output_type": "stream",
     "text": [
      "[23, 'Python,23', 23.98]\n",
      "[<class 'int'>, <class 'str'>, <class 'float'>]\n"
     ]
    }
   ],
   "source": [
    "x=[23,'Python,23',23.98]\n",
    "#intializing an empty list l\n",
    "l=[]\n",
    "for i in x:\n",
    "#appending type of elements using append()\n",
    "#using type() function\n",
    "    l.append(type(i))\n",
    "print(x)#printing the original list\n",
    "print(l)#printing the type of elements from given list"
   ]
  },
  {
   "cell_type": "code",
   "execution_count": 30,
   "id": "bcbc1a25",
   "metadata": {},
   "outputs": [
    {
     "name": "stdout",
     "output_type": "stream",
     "text": [
      "1 2 3 3 3 4 5\n",
      "[1, 2, 3, 4, 5]\n"
     ]
    }
   ],
   "source": [
    "n=list(map(int,input().split()))\n",
    "#defining a function unique\n",
    "def unique(n):\n",
    "#using set function to produce unique elements\n",
    "    l=set(n)\n",
    "    print(list(l))\n",
    "unique(n)"
   ]
  },
  {
   "cell_type": "code",
   "execution_count": 18,
   "id": "ca322519",
   "metadata": {},
   "outputs": [
    {
     "name": "stdout",
     "output_type": "stream",
     "text": [
      "Input String: The quick Brow Fox\n",
      "No. of Upper-case characters: 3\n",
      "No. of lower-case characters: 12\n"
     ]
    }
   ],
   "source": [
    "#taking string as user input\n",
    "s=input(\"Input String: \")\n",
    "#defining a function\n",
    "def letter(s):\n",
    "#intializing u with 0 \n",
    "    u=0\n",
    "#intializing t with 0\n",
    "    t=0\n",
    "    for i in s:\n",
    "        if i.isupper():\n",
    "            u+=1\n",
    "        elif i.islower():\n",
    "            t+=1\n",
    "    print(\"No. of Upper-case characters:\",u)\n",
    "    print(\"No. of lower-case characters:\",t) \n",
    "letter(s)"
   ]
  },
  {
   "cell_type": "code",
   "execution_count": null,
   "id": "a9807837",
   "metadata": {},
   "outputs": [],
   "source": []
  },
  {
   "cell_type": "code",
   "execution_count": null,
   "id": "a67787e0",
   "metadata": {},
   "outputs": [],
   "source": []
  }
 ],
 "metadata": {
  "kernelspec": {
   "display_name": "Python 3 (ipykernel)",
   "language": "python",
   "name": "python3"
  },
  "language_info": {
   "codemirror_mode": {
    "name": "ipython",
    "version": 3
   },
   "file_extension": ".py",
   "mimetype": "text/x-python",
   "name": "python",
   "nbconvert_exporter": "python",
   "pygments_lexer": "ipython3",
   "version": "3.9.13"
  }
 },
 "nbformat": 4,
 "nbformat_minor": 5
}
